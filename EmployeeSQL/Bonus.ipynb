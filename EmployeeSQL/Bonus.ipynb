{
 "cells": [
  {
   "cell_type": "markdown",
   "id": "148b7131",
   "metadata": {},
   "source": [
    "It appears the data is spurious given the salaries don't seen to align with the titles. This is confirmed based on the details for my employee number, 499942."
   ]
  },
  {
   "cell_type": "code",
   "execution_count": 47,
   "id": "41a72b1c",
   "metadata": {},
   "outputs": [],
   "source": [
    "#Import dependencies and create connection with database\n",
    "\n",
    "\n",
    "import pandas as pd\n",
    "import matplotlib.pyplot as plt\n",
    "%matplotlib inline\n",
    "from config import un\n",
    "from config import dbn\n",
    "from config import pw\n",
    "import psycopg2\n",
    "from sqlalchemy import create_engine\n",
    "engine = create_engine('postgresql://localhost:5432/EmployeeSQL')\n",
    "conn = psycopg2.connect(user=un, password=pw, dbname=dbn)\n",
    "\n"
   ]
  },
  {
   "cell_type": "code",
   "execution_count": 70,
   "id": "77a9b018",
   "metadata": {},
   "outputs": [],
   "source": [
    "#read in sql tables and merge dataframes\n",
    "\n",
    "salaries = pd.read_sql(\"SELECT * FROM salaries\", conn)\n",
    "dept_emp = pd.read_sql(\"SELECT * FROM dept_emp\", conn)\n",
    "dept_manager = pd.read_sql(\"SELECT * FROM dept_manager\", conn)\n",
    "employees = pd.read_sql(\"SELECT * FROM employees\", conn)\n",
    "titles = pd.read_sql(\"SELECT * FROM titles\", conn)\n",
    "departments = pd.read_sql(\"SELECT * FROM departments\", conn)\n",
    "sal_emp = pd.merge(salaries, employees, on=\"emp_no\", how=\"inner\")\n",
    "sal_emp = sal_emp.rename(columns = {'emp_title_id':'title_id' })\n",
    "comb_titles = pd.merge(sal_emp, titles, on = \"title_id\", how=\"inner\")\n",
    "comb_dept_no = pd.merge(comb_titles, dept_emp, on = \"emp_no\", how=\"inner\" )\n",
    "comb_dept_mgr = pd.merge(comb_dept_no, dept_manager, on = \"dept_no\", how=\"inner\")\n",
    "comb_dept_mgr = comb_dept_mgr.rename(columns = {'emp_no_y':'manager_emp_no', 'emp_no_x': 'emp_no' })\n",
    "df = pd.merge(comb_dept_no, departments, on = \"dept_no\", how=\"inner\")"
   ]
  },
  {
   "cell_type": "code",
   "execution_count": 58,
   "id": "f46737c0",
   "metadata": {},
   "outputs": [
    {
     "data": {
      "text/html": [
       "<div>\n",
       "<style scoped>\n",
       "    .dataframe tbody tr th:only-of-type {\n",
       "        vertical-align: middle;\n",
       "    }\n",
       "\n",
       "    .dataframe tbody tr th {\n",
       "        vertical-align: top;\n",
       "    }\n",
       "\n",
       "    .dataframe thead th {\n",
       "        text-align: right;\n",
       "    }\n",
       "</style>\n",
       "<table border=\"1\" class=\"dataframe\">\n",
       "  <thead>\n",
       "    <tr style=\"text-align: right;\">\n",
       "      <th></th>\n",
       "      <th>emp_no</th>\n",
       "      <th>salary</th>\n",
       "      <th>title_id</th>\n",
       "      <th>birth_date</th>\n",
       "      <th>first_name</th>\n",
       "      <th>last_name</th>\n",
       "      <th>sex</th>\n",
       "      <th>hire_date</th>\n",
       "      <th>title</th>\n",
       "      <th>dept_no</th>\n",
       "      <th>dept_name</th>\n",
       "    </tr>\n",
       "  </thead>\n",
       "  <tbody>\n",
       "    <tr>\n",
       "      <th>0</th>\n",
       "      <td>10001</td>\n",
       "      <td>60117</td>\n",
       "      <td>e0003</td>\n",
       "      <td>1953-09-02</td>\n",
       "      <td>Georgi</td>\n",
       "      <td>Facello</td>\n",
       "      <td>M</td>\n",
       "      <td>1986-06-26</td>\n",
       "      <td>Senior Engineer</td>\n",
       "      <td>d005</td>\n",
       "      <td>Development</td>\n",
       "    </tr>\n",
       "    <tr>\n",
       "      <th>1</th>\n",
       "      <td>10006</td>\n",
       "      <td>40000</td>\n",
       "      <td>e0003</td>\n",
       "      <td>1953-04-20</td>\n",
       "      <td>Anneke</td>\n",
       "      <td>Preusig</td>\n",
       "      <td>F</td>\n",
       "      <td>1989-06-02</td>\n",
       "      <td>Senior Engineer</td>\n",
       "      <td>d005</td>\n",
       "      <td>Development</td>\n",
       "    </tr>\n",
       "    <tr>\n",
       "      <th>2</th>\n",
       "      <td>10012</td>\n",
       "      <td>40000</td>\n",
       "      <td>e0003</td>\n",
       "      <td>1960-10-04</td>\n",
       "      <td>Patricio</td>\n",
       "      <td>Bridgland</td>\n",
       "      <td>M</td>\n",
       "      <td>1992-12-18</td>\n",
       "      <td>Senior Engineer</td>\n",
       "      <td>d005</td>\n",
       "      <td>Development</td>\n",
       "    </tr>\n",
       "    <tr>\n",
       "      <th>3</th>\n",
       "      <td>10018</td>\n",
       "      <td>55881</td>\n",
       "      <td>e0003</td>\n",
       "      <td>1954-06-19</td>\n",
       "      <td>Kazuhide</td>\n",
       "      <td>Peha</td>\n",
       "      <td>F</td>\n",
       "      <td>1987-04-03</td>\n",
       "      <td>Senior Engineer</td>\n",
       "      <td>d005</td>\n",
       "      <td>Development</td>\n",
       "    </tr>\n",
       "    <tr>\n",
       "      <th>4</th>\n",
       "      <td>10027</td>\n",
       "      <td>40000</td>\n",
       "      <td>e0003</td>\n",
       "      <td>1962-07-10</td>\n",
       "      <td>Divier</td>\n",
       "      <td>Reistad</td>\n",
       "      <td>F</td>\n",
       "      <td>1989-07-07</td>\n",
       "      <td>Senior Engineer</td>\n",
       "      <td>d005</td>\n",
       "      <td>Development</td>\n",
       "    </tr>\n",
       "    <tr>\n",
       "      <th>...</th>\n",
       "      <td>...</td>\n",
       "      <td>...</td>\n",
       "      <td>...</td>\n",
       "      <td>...</td>\n",
       "      <td>...</td>\n",
       "      <td>...</td>\n",
       "      <td>...</td>\n",
       "      <td>...</td>\n",
       "      <td>...</td>\n",
       "      <td>...</td>\n",
       "      <td>...</td>\n",
       "    </tr>\n",
       "    <tr>\n",
       "      <th>331598</th>\n",
       "      <td>499595</td>\n",
       "      <td>65268</td>\n",
       "      <td>s0002</td>\n",
       "      <td>1963-02-01</td>\n",
       "      <td>Nagui</td>\n",
       "      <td>Stamatiou</td>\n",
       "      <td>M</td>\n",
       "      <td>1988-11-17</td>\n",
       "      <td>Senior Staff</td>\n",
       "      <td>d002</td>\n",
       "      <td>Finance</td>\n",
       "    </tr>\n",
       "    <tr>\n",
       "      <th>331599</th>\n",
       "      <td>499853</td>\n",
       "      <td>57342</td>\n",
       "      <td>s0002</td>\n",
       "      <td>1961-11-30</td>\n",
       "      <td>Nalini</td>\n",
       "      <td>Schrift</td>\n",
       "      <td>F</td>\n",
       "      <td>1990-05-22</td>\n",
       "      <td>Senior Staff</td>\n",
       "      <td>d002</td>\n",
       "      <td>Finance</td>\n",
       "    </tr>\n",
       "    <tr>\n",
       "      <th>331600</th>\n",
       "      <td>499989</td>\n",
       "      <td>64183</td>\n",
       "      <td>s0002</td>\n",
       "      <td>1954-05-26</td>\n",
       "      <td>Keiichiro</td>\n",
       "      <td>Lindqvist</td>\n",
       "      <td>M</td>\n",
       "      <td>1993-10-28</td>\n",
       "      <td>Senior Staff</td>\n",
       "      <td>d002</td>\n",
       "      <td>Finance</td>\n",
       "    </tr>\n",
       "    <tr>\n",
       "      <th>331601</th>\n",
       "      <td>110085</td>\n",
       "      <td>60026</td>\n",
       "      <td>m0001</td>\n",
       "      <td>1959-10-28</td>\n",
       "      <td>Ebru</td>\n",
       "      <td>Alpin</td>\n",
       "      <td>M</td>\n",
       "      <td>1985-01-01</td>\n",
       "      <td>Manager</td>\n",
       "      <td>d002</td>\n",
       "      <td>Finance</td>\n",
       "    </tr>\n",
       "    <tr>\n",
       "      <th>331602</th>\n",
       "      <td>110114</td>\n",
       "      <td>52070</td>\n",
       "      <td>m0001</td>\n",
       "      <td>1957-03-28</td>\n",
       "      <td>Isamu</td>\n",
       "      <td>Legleitner</td>\n",
       "      <td>F</td>\n",
       "      <td>1985-01-14</td>\n",
       "      <td>Manager</td>\n",
       "      <td>d002</td>\n",
       "      <td>Finance</td>\n",
       "    </tr>\n",
       "  </tbody>\n",
       "</table>\n",
       "<p>331603 rows × 11 columns</p>\n",
       "</div>"
      ],
      "text/plain": [
       "        emp_no  salary title_id  birth_date first_name   last_name sex  \\\n",
       "0        10001   60117    e0003  1953-09-02     Georgi     Facello   M   \n",
       "1        10006   40000    e0003  1953-04-20     Anneke     Preusig   F   \n",
       "2        10012   40000    e0003  1960-10-04   Patricio   Bridgland   M   \n",
       "3        10018   55881    e0003  1954-06-19   Kazuhide        Peha   F   \n",
       "4        10027   40000    e0003  1962-07-10     Divier     Reistad   F   \n",
       "...        ...     ...      ...         ...        ...         ...  ..   \n",
       "331598  499595   65268    s0002  1963-02-01      Nagui   Stamatiou   M   \n",
       "331599  499853   57342    s0002  1961-11-30     Nalini     Schrift   F   \n",
       "331600  499989   64183    s0002  1954-05-26  Keiichiro   Lindqvist   M   \n",
       "331601  110085   60026    m0001  1959-10-28       Ebru       Alpin   M   \n",
       "331602  110114   52070    m0001  1957-03-28      Isamu  Legleitner   F   \n",
       "\n",
       "         hire_date            title dept_no    dept_name  \n",
       "0       1986-06-26  Senior Engineer    d005  Development  \n",
       "1       1989-06-02  Senior Engineer    d005  Development  \n",
       "2       1992-12-18  Senior Engineer    d005  Development  \n",
       "3       1987-04-03  Senior Engineer    d005  Development  \n",
       "4       1989-07-07  Senior Engineer    d005  Development  \n",
       "...            ...              ...     ...          ...  \n",
       "331598  1988-11-17     Senior Staff    d002      Finance  \n",
       "331599  1990-05-22     Senior Staff    d002      Finance  \n",
       "331600  1993-10-28     Senior Staff    d002      Finance  \n",
       "331601  1985-01-01          Manager    d002      Finance  \n",
       "331602  1985-01-14          Manager    d002      Finance  \n",
       "\n",
       "[331603 rows x 11 columns]"
      ]
     },
     "execution_count": 58,
     "metadata": {},
     "output_type": "execute_result"
    }
   ],
   "source": [
    "df"
   ]
  },
  {
   "cell_type": "code",
   "execution_count": 84,
   "id": "9587c044",
   "metadata": {},
   "outputs": [
    {
     "data": {
      "image/png": "[encoded data removed]",
      "text/plain": [
       "<Figure size 432x288 with 1 Axes>"
      ]
     },
     "metadata": {
      "needs_background": "light"
     },
     "output_type": "display_data"
    }
   ],
   "source": [
    "plt.hist(df.salary, density=True, bins=5, color = \"#93e9be\")  # density=False would make counts\n",
    "plt.title('Salary Ranges')\n",
    "plt.ylabel('Count')\n",
    "plt.xlabel('Salary');"
   ]
  },
  {
   "cell_type": "code",
   "execution_count": 83,
   "id": "6b6d080f",
   "metadata": {},
   "outputs": [
    {
     "data": {
      "image/png": "[encoded data removed]",
      "text/plain": [
       "<Figure size 432x288 with 1 Axes>"
      ]
     },
     "metadata": {
      "needs_background": "light"
     },
     "output_type": "display_data"
    }
   ],
   "source": [
    "df_sal_by_title = df.groupby([\"title\"])['salary'].mean()\n",
    "df_sal_by_title.plot(kind=\"barh\", color=\"#93E9BE\")\n",
    "plt.ylabel('Job Title')\n",
    "plt.xlabel('Avg Salary')\n",
    "plt.title('Average Salary Per Job Title')\n",
    "plt.show();\n"
   ]
  },
  {
   "cell_type": "code",
   "execution_count": 68,
   "id": "0003a8c6",
   "metadata": {},
   "outputs": [],
   "source": [
    "my_sal = df.loc[df['emp_no'] == 499942]"
   ]
  },
  {
   "cell_type": "code",
   "execution_count": 69,
   "id": "72374c71",
   "metadata": {
    "scrolled": true
   },
   "outputs": [
    {
     "data": {
      "text/html": [
       "<div>\n",
       "<style scoped>\n",
       "    .dataframe tbody tr th:only-of-type {\n",
       "        vertical-align: middle;\n",
       "    }\n",
       "\n",
       "    .dataframe tbody tr th {\n",
       "        vertical-align: top;\n",
       "    }\n",
       "\n",
       "    .dataframe thead th {\n",
       "        text-align: right;\n",
       "    }\n",
       "</style>\n",
       "<table border=\"1\" class=\"dataframe\">\n",
       "  <thead>\n",
       "    <tr style=\"text-align: right;\">\n",
       "      <th></th>\n",
       "      <th>emp_no</th>\n",
       "      <th>salary</th>\n",
       "      <th>title_id</th>\n",
       "      <th>birth_date</th>\n",
       "      <th>first_name</th>\n",
       "      <th>last_name</th>\n",
       "      <th>sex</th>\n",
       "      <th>hire_date</th>\n",
       "      <th>title</th>\n",
       "      <th>dept_no</th>\n",
       "      <th>dept_name</th>\n",
       "    </tr>\n",
       "  </thead>\n",
       "  <tbody>\n",
       "    <tr>\n",
       "      <th>85704</th>\n",
       "      <td>499942</td>\n",
       "      <td>40000</td>\n",
       "      <td>e0004</td>\n",
       "      <td>1963-01-10</td>\n",
       "      <td>April</td>\n",
       "      <td>Foolsday</td>\n",
       "      <td>F</td>\n",
       "      <td>1997-02-10</td>\n",
       "      <td>Technique Leader</td>\n",
       "      <td>d005</td>\n",
       "      <td>Development</td>\n",
       "    </tr>\n",
       "  </tbody>\n",
       "</table>\n",
       "</div>"
      ],
      "text/plain": [
       "       emp_no  salary title_id  birth_date first_name last_name sex  \\\n",
       "85704  499942   40000    e0004  1963-01-10      April  Foolsday   F   \n",
       "\n",
       "        hire_date             title dept_no    dept_name  \n",
       "85704  1997-02-10  Technique Leader    d005  Development  "
      ]
     },
     "execution_count": 69,
     "metadata": {},
     "output_type": "execute_result"
    }
   ],
   "source": [
    "my_sal"
   ]
  },
  {
   "cell_type": "code",
   "execution_count": null,
   "id": "7b84061a",
   "metadata": {},
   "outputs": [],
   "source": []
  }
 ],
 "metadata": {
  "kernelspec": {
   "display_name": "Python 3 (ipykernel)",
   "language": "python",
   "name": "python3"
  },
  "language_info": {
   "codemirror_mode": {
    "name": "ipython",
    "version": 3
   },
   "file_extension": ".py",
   "mimetype": "text/x-python",
   "name": "python",
   "nbconvert_exporter": "python",
   "pygments_lexer": "ipython3",
   "version": "3.9.7"
  },
  "varInspector": {
   "cols": {
    "lenName": 16,
    "lenType": 16,
    "lenVar": 40
   },
   "kernels_config": {
    "python": {
     "delete_cmd_postfix": "",
     "delete_cmd_prefix": "del ",
     "library": "var_list.py",
     "varRefreshCmd": "print(var_dic_list())"
    },
    "r": {
     "delete_cmd_postfix": ") ",
     "delete_cmd_prefix": "rm(",
     "library": "var_list.r",
     "varRefreshCmd": "cat(var_dic_list()) "
    }
   },
   "types_to_exclude": [
    "module",
    "function",
    "builtin_function_or_method",
    "instance",
    "_Feature"
   ],
   "window_display": false
  }
 },
 "nbformat": 4,
 "nbformat_minor": 5
}
